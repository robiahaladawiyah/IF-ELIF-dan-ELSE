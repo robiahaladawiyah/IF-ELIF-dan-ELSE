{
  "nbformat": 4,
  "nbformat_minor": 0,
  "metadata": {
    "colab": {
      "name": "2100015023_M3P1V1_If_Elif_Else.ipynb",
      "provenance": [],
      "collapsed_sections": []
    },
    "kernelspec": {
      "name": "python3",
      "display_name": "Python 3"
    },
    "language_info": {
      "name": "python"
    }
  },
  "cells": [
    {
      "cell_type": "markdown",
      "source": [
        "Nama : Robiah Al Adawiyah\n",
        "\n",
        "Nim : 2100015023"
      ],
      "metadata": {
        "id": "GdPkAigOtj2e"
      }
    },
    {
      "cell_type": "markdown",
      "source": [
        "# **Percabangan/ Struktur Pemilihan**\n",
        "\n",
        "\n",
        "Pada bagian ini, kamu akan membuat keputusan pada bahasa pemrograman Python menggunakan struktur percabangan atau juga sering disebut IF ELSE statement. pengambilan keputusan dibutuhkan ketika kamu akan mengeksekusi suatu kode jika sebuah tertantu dipenuhi.\n",
        "\n",
        "\n",
        "Statement if...elif...else digunakan pada bahasa Python untuk pengambilan keputusan."
      ],
      "metadata": {
        "id": "VuLubT0Tt9Fq"
      }
    },
    {
      "cell_type": "markdown",
      "source": [
        "# IF Statements\n",
        "\n",
        "\n",
        "**Python IF Statement Syntax**"
      ],
      "metadata": {
        "id": "UpTYC3SCvWnD"
      }
    },
    {
      "cell_type": "code",
      "execution_count": null,
      "metadata": {
        "id": "JXlv2KdrtQLI"
      },
      "outputs": [],
      "source": [
        "if test expression:\n",
        "  statement(s)"
      ]
    },
    {
      "cell_type": "markdown",
      "source": [
        "Python IF Statement Flowchart"
      ],
      "metadata": {
        "id": "7nhDwllTwidE"
      }
    },
    {
      "cell_type": "markdown",
      "source": [
        "Example: Python IF Statement"
      ],
      "metadata": {
        "id": "5pP9L6wdxU9R"
      }
    },
    {
      "cell_type": "code",
      "source": [
        "# Jika angka adalah bilangan positif maka print \" adalah bilangan positif\"\n",
        "\n",
        "angka = 3\n",
        "if angka > 0:\n",
        "  print(angka,\"adalah bilangan positif.\")\n",
        "print(\"Pernyataan ini selali ditampilkan.\")\n",
        "\n",
        "angka = -1\n",
        "if angka > 0:\n",
        "  print(angka,\"adalah bilangan positif.\")\n",
        "print(\"Pernyataan ini juga selalu ditampilkan.\")"
      ],
      "metadata": {
        "id": "B-OLzg7ExZIB",
        "colab": {
          "base_uri": "https://localhost:8080/"
        },
        "outputId": "2a15ae0b-238b-485e-b9d2-4ec733264a00"
      },
      "execution_count": null,
      "outputs": [
        {
          "output_type": "stream",
          "name": "stdout",
          "text": [
            "3 adalah bilangan positif.\n",
            "Pernyataan ini selali ditampilkan.\n",
            "Pernyataan ini juga selalu ditampilkan.\n"
          ]
        }
      ]
    },
    {
      "cell_type": "markdown",
      "source": [
        "# **IF ELSE Statements**\n",
        "\n",
        "Python IF ELSE Statement Syntax"
      ],
      "metadata": {
        "id": "I88JB9dwydOP"
      }
    },
    {
      "cell_type": "code",
      "source": [
        "if test expression:\n",
        "   Body of if\n",
        "else :\n",
        "   Body of else"
      ],
      "metadata": {
        "id": "2IpUJJ3Cyssr"
      },
      "execution_count": null,
      "outputs": []
    },
    {
      "cell_type": "markdown",
      "source": [
        "Example: Python IF ELSE Statement"
      ],
      "metadata": {
        "id": "fjfupa1oy-QP"
      }
    },
    {
      "cell_type": "code",
      "source": [
        "# Program disusun untuk mengecek apakah angka tersebut kurang dari 0 atau tidak \n",
        "# dan menampilkan tulisan yang sesuai\n",
        "\n",
        "angka = 3\n",
        "if angka >= 0:\n",
        "  print(\"bilangan lebih dari atau samadengan 0\")\n",
        "else:\n",
        "  print(\"bilangan kurang dari 0\")"
      ],
      "metadata": {
        "id": "bMtJ6xlAzGT7",
        "colab": {
          "base_uri": "https://localhost:8080/"
        },
        "outputId": "b975dfb7-0c00-438d-fcf6-a1dacf6ffdb6"
      },
      "execution_count": null,
      "outputs": [
        {
          "output_type": "stream",
          "name": "stdout",
          "text": [
            "bilangan lebih dari atau samadengan 0\n"
          ]
        }
      ]
    },
    {
      "cell_type": "code",
      "source": [
        "# Program disusun untuk mengecek apakah dua buahangka tersebut kurang dari 0 atau tidak \n",
        "# dan menampilkan tulisan yang sesuai\n",
        "\n",
        "a = 5\n",
        "b = 5\n",
        "\n",
        "if a==b:\n",
        "  print(\"a dan b bernilai sama\")\n",
        "else:\n",
        "  print(\"a dan b bernilai berbeda\")\n",
        "  print(\"Belajar if Else\")"
      ],
      "metadata": {
        "id": "9LeCO5Pjzjll",
        "colab": {
          "base_uri": "https://localhost:8080/"
        },
        "outputId": "8dd15e36-7dc6-43c4-80be-dca673ee784c"
      },
      "execution_count": null,
      "outputs": [
        {
          "output_type": "stream",
          "name": "stdout",
          "text": [
            "a dan b bernilai sama\n"
          ]
        }
      ]
    },
    {
      "cell_type": "code",
      "source": [
        "# Program disusun untuk mengecek apakah perbandingan dua buah angka  \n",
        "# dan menampilkan tulisan yang sesuai\n",
        "\n",
        "# membaca dua angka \n",
        "bil1 = int(input(\"masukkan bilangan pertama: \"))\n",
        "bil2 = int(input(\"Masukkan bilangan kedua: \"))\n",
        "\n",
        "# memilih bilangan yang lebih besar\n",
        "if bil1 > bil2:\n",
        "  bil_lebih_besar = bil1\n",
        "else:\n",
        "  bil1_lebih_besar = bil2\n",
        "\n",
        "# menampilkan hasil\n",
        "print(\"bilangan yang lebih besar adalah: \", bil1_lebih_besar)"
      ],
      "metadata": {
        "id": "RMh_1r8s0gpc",
        "colab": {
          "base_uri": "https://localhost:8080/"
        },
        "outputId": "b519f0b0-226b-4b6e-b43c-56e2f15d7318"
      },
      "execution_count": null,
      "outputs": [
        {
          "output_type": "stream",
          "name": "stdout",
          "text": [
            "masukkan bilangan pertama: 4\n",
            "Masukkan bilangan kedua: 28\n",
            "bilangan yang lebih besar adalah:  28\n"
          ]
        }
      ]
    },
    {
      "cell_type": "markdown",
      "source": [
        "# **IF ELIF ELSE Statements**\n",
        "\n",
        "Python IF ELIF ELSE Statement Syntax"
      ],
      "metadata": {
        "id": "EZgYn8rq1XAC"
      }
    },
    {
      "cell_type": "code",
      "source": [
        "if test expressi\n",
        "    Body of if\n",
        "elif test expression:\n",
        "      Body of elif\n",
        "else:\n",
        "  Body of else"
      ],
      "metadata": {
        "id": "tgKBU9Zi1ner"
      },
      "execution_count": null,
      "outputs": []
    },
    {
      "cell_type": "markdown",
      "source": [
        "Example: python IF ELIF ELSE Statement"
      ],
      "metadata": {
        "id": "yL-gNQK69APS"
      }
    },
    {
      "cell_type": "code",
      "source": [
        "# Program disusun untuk mengecek apakah angka merupakan bilangan positif, negatif atau nol\n",
        "# dan menampilkan tulisan yang sesuai \n",
        "\n",
        "angka = 3.4\n",
        "\n",
        "if angka > 0:\n",
        "  print(\"Bilangan Positif\")\n",
        "elif num == 0:\n",
        "  print(\"Nol\")\n",
        "else:\n",
        "  print(\"bilangan Negatif\")"
      ],
      "metadata": {
        "colab": {
          "base_uri": "https://localhost:8080/"
        },
        "id": "G4wVVood9Pyk",
        "outputId": "49d769f3-292d-45af-bac8-faa47e94a042"
      },
      "execution_count": null,
      "outputs": [
        {
          "output_type": "stream",
          "name": "stdout",
          "text": [
            "Bilangan Positif\n"
          ]
        }
      ]
    },
    {
      "cell_type": "code",
      "source": [
        "# Statement if\n",
        "x = 4\n",
        "if x % 2 == 0: #jika x dibagi 2 sisanya samadengan 0 \n",
        "    print(\"x habis dibagi dua\")\n",
        "\n",
        "# Statement if ... elif ... else\n",
        "x = 7\n",
        "if x % 2 == 0: # jika x dibagi 2 sisanya samadengan 0\n",
        "     print(\"x habis dibagi dua\")\n",
        "elif x % 3 == 0: # jika x dibagi 3 sisanya samadengan 0\n",
        "     print(\"x habis dibagi tiga\")\n",
        "elif x % 5 == 0: # jika x dibagi 5 sisanya samadengan 0\n",
        "     print(\"x habis dibagi lima\")\n",
        "else:\n",
        "  print(\"x tidak habis dibagi dua, tiga ataupun lima\")\n"
      ],
      "metadata": {
        "colab": {
          "base_uri": "https://localhost:8080/"
        },
        "id": "ukdodj92-rY_",
        "outputId": "089d476a-3e12-47c0-ab81-8b4e00cab7b0"
      },
      "execution_count": null,
      "outputs": [
        {
          "output_type": "stream",
          "name": "stdout",
          "text": [
            "x habis dibagi dua\n",
            "x tidak habis dibagi dua, tiga ataupun lima\n"
          ]
        }
      ]
    },
    {
      "cell_type": "markdown",
      "source": [
        "# **Python nested IF Statements**"
      ],
      "metadata": {
        "id": "6gBBaD09BaFV"
      }
    },
    {
      "cell_type": "markdown",
      "source": [
        "Exxample: python IF statement"
      ],
      "metadata": {
        "id": "tqSfHcO6BgLp"
      }
    },
    {
      "cell_type": "code",
      "source": [
        "# Program disusun untuk mengecek apakah angka merupakan bilangan psitif, negatif atau nol\n",
        "# dan menampilkan tulisan yang sesuai \n",
        "\n",
        "angka = float(input(\"masukkan angka: \"))\n",
        "if angka >= 0:\n",
        "  if angka == 0:\n",
        "    print(\"Nol\")\n",
        "  else:\n",
        "    print(\"Bilangan Positif\")\n",
        "else:\n",
        "  print(\"Bilangan Negatif\")"
      ],
      "metadata": {
        "colab": {
          "base_uri": "https://localhost:8080/"
        },
        "id": "RjIUkbL3Bl2-",
        "outputId": "d1f4e582-4057-4c6c-e584-7ba3584b5dc0"
      },
      "execution_count": null,
      "outputs": [
        {
          "output_type": "stream",
          "name": "stdout",
          "text": [
            "masukkan angka: -4\n",
            "Bilangan Negatif\n"
          ]
        }
      ]
    },
    {
      "cell_type": "markdown",
      "source": [
        "**Latihan**\n",
        "\n",
        "Buatlah asebuah fungsi \"Mahal_Diskon\" dengan ketentuan:\n",
        "\n",
        "\n",
        "*   input berupa data harga produk dengan tipe data numerik tunggal\n",
        "*   kategori input adalah \"Murah\" dan \"Mahal\", kemudian diskon ada 3 kategori \"10%\", \"20%\", dan \"40%\"\n",
        "\n",
        "\n",
        "*   output pertama sebuah teks/string yang menyatakan \"Mahal\" atau \"Murah\" dan keterangan :kamu Dapat Diskon...\"\n",
        "*   output kedua adalah harga yang perlu dibayarkan\n",
        "\n",
        "\n",
        "\n"
      ],
      "metadata": {
        "id": "BHHFJWO-COkY"
      }
    },
    {
      "cell_type": "code",
      "source": [
        "# Latihan\n",
        "\n",
        "# Harga = Mahal_Diskon\n",
        "Mahal_Diskon= int(input(\"Masukkan harga: \"))\n",
        "\n",
        "if Mahal_Diskon > 50000:\n",
        "  print(\"Mahal\")\n",
        "if Mahal_Diskon < 50000:\n",
        "  print(\"Murah\")\n",
        "elif Mahal_Diskon >=50000 & Mahal_Diskon <=100000:\n",
        "  print('kamu dapat diskon 10%')\n",
        "  Discount = Mahal_Diskon*0.1\n",
        "  Total = Mahal_Diskon-Discount\n",
        "  print(\"Harga yang harus dibayar: \", Total)\n",
        "elif Mahal_Diskon >=100000 & Mahal_Diskon <=150000:\n",
        "  print('kamu dapat diskon 20%')\n",
        "  Discount = Mahal_Diskon*0.2\n",
        "  Total = Mahal_Diskon-Discount\n",
        "  print(\"Harga yang harus dibayar: \", Total)\n",
        "elif Mahal_Diskon >=150000 & Mahal_Diskon <=200000:\n",
        "  print('kamu dapat diskon 40%')\n",
        "  Discount = Mahal_Diskon*0.4\n",
        "  Total = Mahal_Diskon-Discount\n",
        "  print(\"Harga yang harus dibayar: \", Total)\n",
        "else:\n",
        "   print('kamu tidak dapat diskon!')\n",
        "   Discount = 0;\n",
        "   Total = Mahal_Diskon-Discount\n",
        "   print(\"Harga yang harus dibayar: \", Total)\n"
      ],
      "metadata": {
        "id": "B3KSWC3uDO08",
        "colab": {
          "base_uri": "https://localhost:8080/",
          "height": 0
        },
        "outputId": "e40f8f97-0761-4945-eae2-27ed8decccde"
      },
      "execution_count": 1,
      "outputs": [
        {
          "output_type": "stream",
          "name": "stdout",
          "text": [
            "Masukkan harga: 150000\n",
            "Mahal\n",
            "kamu dapat diskon 10%\n",
            "Harga yang harus dibayar:  135000.0\n"
          ]
        }
      ]
    }
  ]
}